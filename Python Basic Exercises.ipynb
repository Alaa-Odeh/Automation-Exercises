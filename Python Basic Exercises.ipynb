{
 "cells": [
  {
   "cell_type": "markdown",
   "id": "17f6c4aa",
   "metadata": {},
   "source": [
    "# Python Basic Exercises"
   ]
  },
  {
   "cell_type": "code",
   "execution_count": 50,
   "id": "9277f2bb",
   "metadata": {},
   "outputs": [],
   "source": [
    "import numpy as np\n",
    "import igraph\n",
    "from igraph import Graph, EdgeSeq"
   ]
  },
  {
   "cell_type": "markdown",
   "id": "c3e5d085",
   "metadata": {},
   "source": [
    "## Arrays and Strings:"
   ]
  },
  {
   "cell_type": "markdown",
   "id": "24a51e5a",
   "metadata": {},
   "source": [
    "### Write a program to reverse a string in place"
   ]
  },
  {
   "cell_type": "code",
   "execution_count": 3,
   "id": "b15a5dbf",
   "metadata": {},
   "outputs": [
    {
     "name": "stdout",
     "output_type": "stream",
     "text": [
      "Enter Text:abc\n",
      "Original Text: abc\n",
      "Reversed Text: cba\n"
     ]
    }
   ],
   "source": [
    "\n",
    "s_string=input(\"Enter Text:\");\n",
    "print(\"Original Text: \"+s_string)\n",
    "s_string= s_string[::-1]\n",
    "print(\"Reversed Text: \"+s_string)"
   ]
  },
  {
   "cell_type": "code",
   "execution_count": null,
   "id": "cd9eea04",
   "metadata": {},
   "outputs": [],
   "source": []
  },
  {
   "cell_type": "markdown",
   "id": "4027fa12",
   "metadata": {},
   "source": [
    "### Write a program to find the maximum and minimum elements in an array."
   ]
  },
  {
   "cell_type": "code",
   "execution_count": 6,
   "id": "b827704b",
   "metadata": {},
   "outputs": [
    {
     "name": "stdout",
     "output_type": "stream",
     "text": [
      "Enter array size:2\n",
      "Enter Element:1\n",
      "Enter Element:2\n",
      "Minimum:  1 \n",
      "Maximum:  2\n"
     ]
    }
   ],
   "source": [
    "num=input(\"Enter array size:\")\n",
    "arr=[]\n",
    "for i in range(int(num)):\n",
    "    arr.append(input(\"Enter Element:\"))\n",
    "print(\"Minimum: \" ,arr[0] ,\"\\nMaximum: \" ,arr[-1])"
   ]
  },
  {
   "cell_type": "markdown",
   "id": "4af7e313",
   "metadata": {},
   "source": [
    "### Write a program to remove duplicates from a sorted array"
   ]
  },
  {
   "cell_type": "code",
   "execution_count": 8,
   "id": "6953d3df",
   "metadata": {},
   "outputs": [
    {
     "name": "stdout",
     "output_type": "stream",
     "text": [
      "Enter array size:4\n",
      "Enter Element in sorted order:s\n",
      "Enter Element in sorted order:s\n",
      "Enter Element in sorted order:t\n",
      "Enter Element in sorted order:t\n",
      "Unique values:  ['s', 't']\n"
     ]
    }
   ],
   "source": [
    "\n",
    "#creating a temporary array that will only take unique values,\n",
    "\n",
    "def delete_duplicates(arr):   \n",
    "    arr_temp=[]\n",
    "    for i in range(len(arr)-1):\n",
    "        if(arr[i]!=arr[i+1]):\n",
    "            arr_temp.append(arr[i])\n",
    "    arr_temp.append(arr[-1]) #adding the last element\n",
    "    return(arr_temp)\n",
    "\n",
    "\n",
    "\n",
    "num=input(\"Enter array size:\")\n",
    "arr=[]\n",
    "for i in range(int(num)):\n",
    "    arr.append(input(\"Enter Element in sorted order:\"))\n",
    "print(\"Unique values: \",delete_duplicates(arr))"
   ]
  },
  {
   "cell_type": "code",
   "execution_count": null,
   "id": "8a003d43",
   "metadata": {},
   "outputs": [],
   "source": []
  },
  {
   "cell_type": "markdown",
   "id": "315da0cc",
   "metadata": {},
   "source": []
  },
  {
   "cell_type": "markdown",
   "id": "4a20a541",
   "metadata": {},
   "source": [
    "## Linked Lists:\n",
    "  Write a program to reverse a linked list\n",
    "  Write a program to find the middle element of a linked list.\n",
    "  Write a program to detect if a linked list has a cycle.\n",
    "\n"
   ]
  },
  {
   "cell_type": "code",
   "execution_count": 11,
   "id": "6b756646",
   "metadata": {
    "scrolled": true
   },
   "outputs": [],
   "source": [
    "\n",
    "class Node:\n",
    "    #create a node object\n",
    "    def __init__(self, data):\n",
    "        self.data = data\n",
    "        self.next = None\n",
    "        \n",
    "class LinkedList:\n",
    "    #initialize the head\n",
    "    def __init__(self):\n",
    "        self.head = None\n",
    "        \n",
    "    #reversing the LinkedList\n",
    "    def reverse(self):\n",
    "        prev = None\n",
    "        current = self.head\n",
    "        while(current is not None):\n",
    "            next = current.next ##temp \n",
    "            current.next = prev ## updating the pointer\n",
    "            prev = current      ## updating the current\n",
    "            current = next\n",
    "        self.head = prev\n",
    "        \n",
    "    #insert a new node at the beginning   \n",
    "    def push(self, new_data):\n",
    "        new_node = Node(new_data)\n",
    "        new_node.next = self.head\n",
    "        self.head = new_node\n",
    "    \n",
    "    #length of linkedlist\n",
    "    def getLen(self, head):\n",
    "        temp = head\n",
    "        len = 0\n",
    "        while (temp != None):\n",
    "            len += 1\n",
    "            temp = temp.next\n",
    "        return len\n",
    "    \n",
    "    #print the LinkedList\n",
    "    def printList(self):\n",
    "        temp = self.head\n",
    "        while(temp):\n",
    "            print (temp.data)\n",
    "            temp = temp.next\n",
    "            \n",
    "\n",
    "    #find the middle element\n",
    "    def getMiddle(self):\n",
    "        if self.head != None:\n",
    "            # find length\n",
    "            len = self.getLen(self.head)\n",
    "            temp = self.head\n",
    " \n",
    "            middle = len // 2  # move till we reached half of length\n",
    "            while middle != 0:\n",
    "                temp = temp.next\n",
    "                middle -= 1\n",
    "            return(temp.data)  # temp stores middle element\n",
    "            \n",
    "    \n",
    "    #Detect a Cycle\n",
    "    def cycleDetect(self):\n",
    "        hashTbl=set() \n",
    "        temp=self.head\n",
    "        while(temp):\n",
    "            if temp in hashTbl:\n",
    "                return True\n",
    "            hashTbl.add(temp)\n",
    "            temp=temp.next\n",
    "        return False\n",
    "    \n",
    "            "
   ]
  },
  {
   "cell_type": "code",
   "execution_count": 12,
   "id": "01fc2a98",
   "metadata": {},
   "outputs": [
    {
     "name": "stdout",
     "output_type": "stream",
     "text": [
      "Original LinkedList\n",
      "86\n",
      "29\n",
      "73\n",
      "46\n",
      "5\n",
      "Reversed LinkedList\n",
      "5\n",
      "46\n",
      "73\n",
      "29\n",
      "86\n"
     ]
    }
   ],
   "source": [
    "#reversing the list by changing the links bewtween the nodes (fliping the links) and pointing the head to be the\n",
    "# tail of the list\n",
    "linklist=LinkedList()  #creating a linkedkist\n",
    "# adding nodes to thr list\n",
    "linklist.push(5)\n",
    "linklist.push(46)\n",
    "linklist.push(73)\n",
    "linklist.push(29)\n",
    "linklist.push(86)\n",
    "print(\"Original LinkedList\")\n",
    "linklist.printList()\n",
    "#reverse the list\n",
    "linklist.reverse()\n",
    "print(\"Reversed LinkedList\")\n",
    "linklist.printList()\n"
   ]
  },
  {
   "cell_type": "code",
   "execution_count": null,
   "id": "56d30507",
   "metadata": {},
   "outputs": [],
   "source": []
  },
  {
   "cell_type": "code",
   "execution_count": 13,
   "id": "4759a0a8",
   "metadata": {},
   "outputs": [
    {
     "name": "stdout",
     "output_type": "stream",
     "text": [
      "The middle element of the Linked List is: 73\n"
     ]
    }
   ],
   "source": [
    "# Write a program to find the middle element of a linked list\n",
    "print(\"The middle element of the Linked List is: %d\" %(linklist.getMiddle()))\n"
   ]
  },
  {
   "cell_type": "code",
   "execution_count": null,
   "id": "dc8843c2",
   "metadata": {},
   "outputs": [],
   "source": []
  },
  {
   "cell_type": "code",
   "execution_count": 14,
   "id": "1e260635",
   "metadata": {},
   "outputs": [
    {
     "name": "stdout",
     "output_type": "stream",
     "text": [
      "Loop was Found\n"
     ]
    }
   ],
   "source": [
    "#Write a program to detect if a linked list has a cycle.\n",
    "# Create a loop\n",
    "linklist.head.next.next.next=linklist.head\n",
    "\n",
    "# the idea is to build a hash table that can only containg unique values,\n",
    "#once we find the same value again it means that we have a loop\n",
    "\n",
    "if (linklist.cycleDetect()):\n",
    "    print(\"Loop was Found\")\n",
    "else:\n",
    "    print(\"Loop was Not Found\")"
   ]
  },
  {
   "cell_type": "code",
   "execution_count": null,
   "id": "be987617",
   "metadata": {},
   "outputs": [],
   "source": []
  },
  {
   "cell_type": "markdown",
   "id": "36addbdb",
   "metadata": {},
   "source": [
    "## Stacks and Queues"
   ]
  },
  {
   "cell_type": "code",
   "execution_count": 15,
   "id": "a5a68e7a",
   "metadata": {},
   "outputs": [],
   "source": [
    "#creat stack classe\n",
    "from _collections import deque\n",
    "\n",
    "class Stack:\n",
    " \n",
    "    def __init__(self):\n",
    "        # Two inbuilt queues\n",
    "        self.q1 = deque()\n",
    "        self.q2 = deque()\n",
    "        \n",
    "\n",
    "    def push(self, x):\n",
    "        # Push x first in empty q2\n",
    "        self.q2.append(x)\n",
    "    ##remove all elemnts except the last one added, \n",
    "    ##take the last element as temp and swap the queues    \n",
    "    def pop(self): \n",
    "        if not self.q2:\n",
    "            return -1\n",
    "        while(len(self.q2)!=1):\n",
    "            temp=self.q2.popleft()\n",
    "            self.q1.append(temp)\n",
    "        stack_top=self.q2.pop()\n",
    "        self.q1,self.q2=self.q2,self.q1\n",
    "        \n",
    "        \n",
    "        return stack_top\n",
    "    \n",
    "        \n",
    "    \n",
    "        "
   ]
  },
  {
   "cell_type": "code",
   "execution_count": 16,
   "id": "bbbac886",
   "metadata": {},
   "outputs": [
    {
     "name": "stdout",
     "output_type": "stream",
     "text": [
      "6\n",
      "5\n",
      "4\n"
     ]
    }
   ],
   "source": [
    "#Implement a stack using two queues\n",
    "s = Stack()  #creating a stack\n",
    "s.push(1)    #adding elements\n",
    "s.push(2)\n",
    "s.push(3)\n",
    "s.push(4)    \n",
    "s.push(5)\n",
    "s.push(6)\n",
    "\n",
    "print(s.pop()) #poping elements LIFO\n",
    "print(s.pop())\n",
    "print(s.pop())\n",
    "\n"
   ]
  },
  {
   "cell_type": "code",
   "execution_count": 17,
   "id": "6391751e",
   "metadata": {},
   "outputs": [],
   "source": [
    "class Queue:\n",
    "    def __init__(self):\n",
    "        self.s1 = []\n",
    "        self.s2 = []\n",
    "    \n",
    "    def push(self,x):\n",
    "        #move everything to s2 and push x to s1\n",
    "        while len(self.s1) != 0: \n",
    "            self.s2.append(self.s1[-1]) \n",
    "            self.s1.pop()\n",
    "        self.s1.append(x) \n",
    " \n",
    "        # Push everything back to s1 \n",
    "        while len(self.s2) != 0: \n",
    "            self.s1.append(self.s2[-1]) \n",
    "            self.s2.pop()    \n",
    "    def pop(self):\n",
    "         \n",
    "            # if first stack is empty \n",
    "        if len(self.s1) == 0: \n",
    "            return -1;\n",
    "     \n",
    "        # Return top of s1 \n",
    "        x = self.s1[-1] \n",
    "        self.s1.pop() \n",
    "        return x"
   ]
  },
  {
   "cell_type": "code",
   "execution_count": 18,
   "id": "83303fc5",
   "metadata": {},
   "outputs": [
    {
     "name": "stdout",
     "output_type": "stream",
     "text": [
      "1\n",
      "2\n",
      "3\n"
     ]
    }
   ],
   "source": [
    "q = Queue()\n",
    "q.push(1) \n",
    "q.push(2) \n",
    "q.push(3) \n",
    "q.push(4) \n",
    "q.push(5) \n",
    "print(q.pop())\n",
    "print(q.pop())\n",
    "q.push(6) \n",
    "print(q.pop())"
   ]
  },
  {
   "cell_type": "code",
   "execution_count": 20,
   "id": "41316c1a",
   "metadata": {},
   "outputs": [],
   "source": [
    "# Write a program to check if a given string of parentheses is balanced.\n",
    "# the idea is to create a stack an fill it up with openining parentheses \n",
    "# and then we compare the last parentheses in the stack with coresponding \n",
    "#closing parenthese if match was not found return false\n",
    "def isBalanced(text):\n",
    "    s_stack=[] \n",
    "    for char in text:\n",
    "        if char in['(','{','[']:\n",
    "            s_stack.append(char)\n",
    "        else :\n",
    "            if not s_stack:\n",
    "                return False\n",
    "            current_char=s_stack.pop()\n",
    "\n",
    "            if current_char=='(':\n",
    "                if char!=')':\n",
    "                    return False\n",
    "\n",
    "            if current_char=='{':\n",
    "                if char!='}':\n",
    "                    return False\n",
    "\n",
    "\n",
    "            if current_char=='[':\n",
    "                if char!=']':\n",
    "                    return False\n",
    "            \n",
    "    if s_stack:\n",
    "        return False\n",
    "    return True\n",
    "            \n",
    "            \n",
    "            "
   ]
  },
  {
   "cell_type": "code",
   "execution_count": 21,
   "id": "21e27fbe",
   "metadata": {},
   "outputs": [
    {
     "name": "stdout",
     "output_type": "stream",
     "text": [
      "Checking if the parentheses in the Text () is balanced: True\n",
      "Checking if the parentheses in the Text [(1(2(3(4(5(6))))))+(1(2(3(4(5))))}]) is balanced: False\n",
      "Checking if the parentheses in the Text ([{1(234(5(6))))))+(1(2(3(4(5)]})) is balanced: False\n",
      "Checking if the parentheses in the Text (1(234(5(6))}}{{}}))+(1(2(3(4(5)))) is balanced: False\n"
     ]
    }
   ],
   "source": [
    "text=[\"()\",\n",
    "   \"[(1(2(3(4(5(6))))))+(1(2(3(4(5))))}])\", ## Num of opening paren = Num of closing paren\n",
    "    \"([{1(234(5(6))))))+(1(2(3(4(5)]}))\", ## Num of opening paren < Num of closing paren\n",
    "    \"(1(234(5(6))}}{{}}))+(1(2(3(4(5))))\"] ## Num of opening paren > Num of closing paren\n",
    "for t in text:\n",
    "    \n",
    "    print(\"Checking if the parentheses in the Text \"+t+ \" is balanced:\" ,isBalanced(t))\n"
   ]
  },
  {
   "cell_type": "code",
   "execution_count": null,
   "id": "10e2f03c",
   "metadata": {},
   "outputs": [],
   "source": []
  },
  {
   "cell_type": "markdown",
   "id": "8ad9aab7",
   "metadata": {},
   "source": [
    "\n",
    "# Trees and Graphs"
   ]
  },
  {
   "cell_type": "code",
   "execution_count": 23,
   "id": "19ebe596",
   "metadata": {},
   "outputs": [],
   "source": [
    "#Write a program to find the lowest common ancestor of two nodes in a binary tree\n",
    "#create a tree node\n",
    "class Node:\n",
    "    # Constructor to create a new binary node\n",
    "    def __init__(self, val):\n",
    "        self.val = val\n",
    "        self.left = None\n",
    "        self.right = None\n",
    "\n",
    "#function to find the path from the root to the node         \n",
    "def pathToNode(root,path,val):\n",
    "   #return false if root is null\n",
    "    if root is None:\n",
    "        return False\n",
    "    \n",
    "    #push root val to the list\n",
    "    path.append(root.val)\n",
    "    \n",
    "    #if we found the deired node return true\n",
    "    if root.val==val:\n",
    "        return True\n",
    "    \n",
    "    if((root.left != None and pathToNode(root.left,path,val)) or (root.right != None and pathToNode(root.right,path,val))):\n",
    "           #if we find the note on the left or right subtree return true\n",
    "            return True\n",
    "    \n",
    "    path.pop() #backtracking by removing the last element\n",
    "    return False\n",
    "\n",
    "        \n",
    "def findLCA(root,n1,n2):\n",
    "    #lists to store the paths from the root to node\n",
    "    path1=[]\n",
    "    path2=[]\n",
    "    \n",
    "    \n",
    "    if (not pathToNode(root,path1,n1) or not pathToNode(root,path2,n2)):\n",
    "        return -1 #if LCA not found return -1\n",
    "    i=0\n",
    "    \n",
    "    #checking the first Not common ancestor \n",
    "    while (i<len(path1) and i<len(path2)):\n",
    "        if path1[i] != path2[i]:\n",
    "            break\n",
    "        i+=1\n",
    "    return path1[i-1] #returning the last common ancestor\n"
   ]
  },
  {
   "cell_type": "code",
   "execution_count": 24,
   "id": "87349f94",
   "metadata": {},
   "outputs": [
    {
     "name": "stdout",
     "output_type": "stream",
     "text": [
      "Last Common Ancestor for 4 and 5 is:  5\n",
      "Last Common Ancestor for 1 and 8 is:  1\n",
      "Last Common Ancestor for 3 and 4 is:  3\n",
      "Last Common Ancestor for 2 and 4 is:  2\n",
      "Last Common Ancestor for 6 and 7 is:  5\n",
      "Last Common Ancestor for 7 and 8 is:  3\n"
     ]
    }
   ],
   "source": [
    "#application by creating A 3-Layerd TREE\n",
    "root = Node(3)\n",
    "root.left = Node(5)\n",
    "root.right = Node(1)\n",
    "root.left.left = Node(6)\n",
    "root.left.right = Node(2)\n",
    "root.right.left = Node(0)\n",
    "root.right.right = Node(8)\n",
    "root.left.right.left = Node(7)\n",
    "root.left.right.right = Node(4)\n",
    "\n",
    "print(\"Last Common Ancestor for %d and %d is: \"%(4,5),findLCA(root,4,5))\n",
    "print(\"Last Common Ancestor for %d and %d is: \"%(1,8),findLCA(root,1,8))\n",
    "print(\"Last Common Ancestor for %d and %d is: \"%(3,4),findLCA(root,3,4))\n",
    "print(\"Last Common Ancestor for %d and %d is: \"%(2,4),findLCA(root,2,4))\n",
    "print(\"Last Common Ancestor for %d and %d is: \"%(6,7),findLCA(root,6,7))\n",
    "print(\"Last Common Ancestor for %d and %d is: \"%(7,8),findLCA(root,7,8))"
   ]
  },
  {
   "cell_type": "code",
   "execution_count": 25,
   "id": "545917fe",
   "metadata": {},
   "outputs": [],
   "source": [
    "#Write a program to find the shortest path between two nodes in a graph.\n",
    "def shortest_path(graph, node1, node2):\n",
    "    path_list = [[node1]]\n",
    "    path_index = 0\n",
    "    # To keep track of previously visited nodes\n",
    "    previous_nodes = {node1}\n",
    "    if node1 == node2:\n",
    "        return path_list[0]\n",
    "        \n",
    "    while path_index < len(path_list):\n",
    "        current_path = path_list[path_index]\n",
    "        last_node = current_path[-1]\n",
    "        next_nodes = graph[last_node]\n",
    "        # Search goal node\n",
    "        if node2 in next_nodes:\n",
    "            current_path.append(node2)\n",
    "            return current_path\n",
    "        # Add new paths\n",
    "        for next_node in next_nodes:\n",
    "            if not next_node in previous_nodes:\n",
    "                new_path = current_path[:]\n",
    "                new_path.append(next_node)\n",
    "                path_list.append(new_path)\n",
    "                # To avoid backtracking\n",
    "                previous_nodes.add(next_node)\n",
    "        # Continue to next path in list\n",
    "        path_index += 1\n",
    "    # No path is found\n",
    "    return []\n"
   ]
  },
  {
   "cell_type": "code",
   "execution_count": 26,
   "id": "f5120635",
   "metadata": {},
   "outputs": [
    {
     "data": {
      "text/plain": [
       "[5, 2, 3]"
      ]
     },
     "execution_count": 26,
     "metadata": {},
     "output_type": "execute_result"
    }
   ],
   "source": [
    "graph = {}\n",
    "graph[1] = {2, 5}\n",
    "graph[2] = {1, 3, 5}\n",
    "graph[3] = {2, 4}\n",
    "graph[4] = {3, 5, 6}\n",
    "graph[5] = {1, 2, 4}\n",
    "graph[6] = {4}\n",
    "shortest_path(graph, 5, 3)"
   ]
  },
  {
   "cell_type": "code",
   "execution_count": null,
   "id": "8254ee56",
   "metadata": {},
   "outputs": [],
   "source": []
  },
  {
   "cell_type": "code",
   "execution_count": 27,
   "id": "c02d06d7",
   "metadata": {},
   "outputs": [],
   "source": [
    "#Implement a binary search tree and write functions to insert, delete and search  for elements\n",
    "\n",
    "class BinarySearchTree:\n",
    "    # Constructor to create a new binary tree\n",
    "    def __init__(self,val=None):\n",
    "        self.val = val\n",
    "        self.left = None\n",
    "        self.right = None\n",
    "        \n",
    "         \n",
    "    \n",
    "    #using the informaition that the nodes on the left of the root are smaller \\\n",
    "    #we recurcivly search for the matching node within the right subtree\n",
    "    \n",
    "    #we keep searching for the right position for the node all the way until\n",
    "    #we reach a null node in the right side of the tree\n",
    "    def insert(self,val):\n",
    "        if not self.val:\n",
    "            self.val=val\n",
    "            return\n",
    "        if self.val==val:\n",
    "            return\n",
    "        if val<self.val:\n",
    "            if self.left:\n",
    "                self.left.insert(val)\n",
    "                return\n",
    "            self.left=BinarySearchTree(val)\n",
    "\n",
    "        if val>self.val:\n",
    "            if self.right:\n",
    "                self.right.insert(val)\n",
    "                return\n",
    "            self.right=BinarySearchTree(val)\n",
    "            \n",
    "def inOrder(node):\n",
    "    current=node\n",
    "    while (current.left is not None):\n",
    "        current=current.left\n",
    "    return current\n",
    "\n",
    "\n",
    "def nodeDeletion(tree,val):\n",
    "        if tree is None:\n",
    "            return tree\n",
    "\n",
    "\n",
    "        if val < tree.val:\n",
    "            tree.left=nodeDeletion(tree.left,val)\n",
    "\n",
    "        elif val > tree.val:\n",
    "            tree.right=nodeDeletion(tree.right,val)\n",
    "\n",
    "        else:\n",
    "            if tree.left is None:\n",
    "                temp=tree.right\n",
    "                tree=None\n",
    "                return temp\n",
    "\n",
    "            elif tree.right is None:\n",
    "                temp=tree.left\n",
    "                tree=None\n",
    "                return temp\n",
    "\n",
    "            temp=inOrder(tree.right)\n",
    "            tree.val=temp.val\n",
    "            tree.right=nodeDeletion(tree.right,temp.val)\n",
    "\n",
    "        return tree\n",
    "\n",
    "def searchinTree(tree,x):\n",
    "    node = tree\n",
    "    depth = 0\n",
    "\n",
    "    while True:\n",
    "        depth += 1\n",
    "        if node.val == x:\n",
    "            break\n",
    "        elif x < node.val:\n",
    "            node = node.left\n",
    "        elif x > node.val:\n",
    "            node = node.right\n",
    "    return depth\n",
    "\n",
    "    #before we delete a node, we hold on to the subtree that connects to the node and then,\n",
    "    #reattach it to the parent node of the node thats being deleted\n",
    "\n",
    "    \n",
    "\n"
   ]
  },
  {
   "cell_type": "code",
   "execution_count": 30,
   "id": "adc3bae5",
   "metadata": {},
   "outputs": [
    {
     "name": "stdout",
     "output_type": "stream",
     "text": [
      "6\n"
     ]
    }
   ],
   "source": [
    "tree = BinarySearchTree()\n",
    "for i in range(20,100,10):\n",
    "    tree.insert(i)\n",
    "for i in range(0,100,5):\n",
    "    tree.insert(i)\n",
    "\n",
    "tree=nodeDeletion(tree,20)\n",
    "print(searchinTree(tree,55))\n",
    "\n"
   ]
  },
  {
   "cell_type": "code",
   "execution_count": null,
   "id": "4ab3cc08",
   "metadata": {},
   "outputs": [],
   "source": []
  },
  {
   "cell_type": "markdown",
   "id": "3bc9f055",
   "metadata": {},
   "source": [
    "## Sorting Algorithms"
   ]
  },
  {
   "cell_type": "markdown",
   "id": "8c4095dd",
   "metadata": {},
   "source": [
    "## Bubble Sort Algorithem\n",
    "Worse case scinario is having to go through the entire pairs of the array\n",
    "each iteration results in the biggest number moving to the end of the array\n",
    "thus each iteration actually goes through n-1 elements than the prevoius iteration\n",
    "councluding the time comlixity: O(n^2)"
   ]
  },
  {
   "cell_type": "code",
   "execution_count": 31,
   "id": "3c59b14e",
   "metadata": {},
   "outputs": [],
   "source": [
    "#Implement the bubble sort algorithm.\n",
    "#we keep swiching between two adjecent elements and keep reapeting the process till fully sorted\n",
    "def bubbleSort(arr):\n",
    "    n = len(arr)\n",
    "    # if the array is already sorted, it doesn't need to go through the entire process\n",
    "    flag = False\n",
    "    # walkthrough through all array elements\n",
    "    for i in range(len(arr)-1):\n",
    "\n",
    "        for j in range(0, len(arr)-i-1):\n",
    "             \n",
    "            # Swap if the element found is greater than the next element\n",
    "            if arr[j] > arr[j + 1]:\n",
    "                flag = True\n",
    "                arr[j], arr[j + 1] = arr[j + 1], arr[j]\n",
    "         \n",
    "        if not flag:\n",
    "            #if we didnt need to swap any elemnts in the inner loop -> array is sorted\n",
    "            return\n",
    " \n",
    " \n"
   ]
  },
  {
   "cell_type": "code",
   "execution_count": 33,
   "id": "fb027039",
   "metadata": {},
   "outputs": [
    {
     "name": "stdout",
     "output_type": "stream",
     "text": [
      "Original array: [1, 62, 43, 85, 29, 0, 76, 102, 5000]\n",
      "\n",
      "Sorted array using Bubble sort Algorithem is: [0, 1, 29, 43, 62, 76, 85, 102, 5000]\n"
     ]
    }
   ],
   "source": [
    "arr = [1,62,43,85,29,0,76,102,5000]\n",
    "\n",
    "print(\"Original array:\" ,arr) \n",
    "\n",
    "bubbleSort(arr)\n",
    " \n",
    "print(\"\\nSorted array using Bubble sort Algorithem is:\",arr)\n"
   ]
  },
  {
   "cell_type": "code",
   "execution_count": null,
   "id": "6a71055c",
   "metadata": {},
   "outputs": [],
   "source": []
  },
  {
   "cell_type": "markdown",
   "id": "2e42ffaf",
   "metadata": {},
   "source": [
    "## Merge Sort Algorethim\n",
    "in the algorethim, we chose to sort the right half and the left half of the array so we take that operation in consideration when we calculate the time complexity, their's also the mergeing of the two half as well\n",
    "each time we cut the array in half we have to add the time complixety until we reach one element in each side (n elements)\n",
    "T(n)=n+nlogn -> O(nlogn)\n"
   ]
  },
  {
   "cell_type": "code",
   "execution_count": 34,
   "id": "9dbf4f15",
   "metadata": {},
   "outputs": [],
   "source": [
    "#Implement the merge sort algorithm.\n",
    "#we recursively divide the array to 2 subarrays untill we get to the smalles subarray\n",
    "#and then we performe merging in the right order\n",
    "def merge(arr,i,m,n):\n",
    "    len_subarray1=m-i+1\n",
    "    len_subarray2=n-m\n",
    "    #temperary arrays\n",
    "    subarray1=[0]*len_subarray1\n",
    "    subarray2=[0]*len_subarray2\n",
    "    \n",
    "    \n",
    "    #move data to the right array\n",
    "    for j in range(0,len_subarray1):\n",
    "        subarray1[j]=arr[i+j]\n",
    "    for k in range(0,len_subarray2):\n",
    "        subarray2[k]=arr[m+1+k]\n",
    "        \n",
    "    #merging the two subarrays into one\n",
    "    j,k,l=0,0,i #initial indexes for subarray1, subarray2,mergerd array\n",
    "    \n",
    "    #inserting the right element in the right oder\n",
    "    while(j<len_subarray1) and (k<len_subarray2):\n",
    "        if subarray1[j]<=subarray2[k]:\n",
    "            arr[l]=subarray1[j]\n",
    "            j+=1\n",
    "        else:\n",
    "            arr[l]=subarray2[k]\n",
    "            k+=1\n",
    "        l+=1\n",
    "    \n",
    "    \n",
    "    #since one of the subarrays is doomed to finish first we need to add\n",
    "    #the rest of the elements to the array\n",
    "    while j<len_subarray1:\n",
    "        arr[l]=subarray1[j]\n",
    "        j+=1\n",
    "        l+=1\n",
    "    while k<len_subarray2:\n",
    "        arr[l]=subarray2[k]\n",
    "        k+=1\n",
    "        l+=1\n",
    "\n",
    "        \n",
    "def mergeSort(arr,i,n):\n",
    "    if  i < n:\n",
    "        \n",
    "        m=i+(n-i)//2\n",
    "        mergeSort(arr,i,m)\n",
    "        mergeSort(arr,m+1,n)\n",
    "        merge(arr,i,m,n)\n",
    "        "
   ]
  },
  {
   "cell_type": "code",
   "execution_count": 35,
   "id": "397b364a",
   "metadata": {},
   "outputs": [
    {
     "name": "stdout",
     "output_type": "stream",
     "text": [
      "Original array is:  [1, 62, 43, 85, 29, 0, 76, 102, 5000]\n",
      "\n",
      "Sorted array using merge-sort algorithem is:  [0, 1, 29, 43, 62, 76, 85, 102, 5000]\n"
     ]
    }
   ],
   "source": [
    "arr = [1,62,43,85,29,0,76,102,5000]\n",
    "\n",
    "n = len(arr)\n",
    "print(\"Original array is: \",arr)\n",
    "\n",
    "mergeSort(arr, 0, n-1)\n",
    "print(\"\\nSorted array using merge-sort algorithem is: \",arr)\n",
    "\n",
    " \n"
   ]
  },
  {
   "cell_type": "code",
   "execution_count": null,
   "id": "c71986c3",
   "metadata": {},
   "outputs": [],
   "source": []
  },
  {
   "cell_type": "markdown",
   "id": "c096155e",
   "metadata": {},
   "source": [
    "## Quick Sort Algorethim\n",
    "the same as in the merge sort algorethim but this time we chose a pivot to work around it\n",
    "but, at each level we still work with n elemnts and we have log(n)layers or leves to partition the array until 1 element is lef, thus the time complexity is (nlogn)"
   ]
  },
  {
   "cell_type": "code",
   "execution_count": 36,
   "id": "2117c314",
   "metadata": {},
   "outputs": [],
   "source": [
    "#Implement the quicksort algorithm.\n",
    "\n",
    "#we recursively divid the array to 2 subarrays around a specific pivote untill we get one \n",
    "#element array and then we start swiching the elements such that the smaller than the pivot is on its left side\n",
    "\n",
    "\n",
    "def partition(array,left,right):\n",
    "    #let us choose the the last right element as pivot\n",
    "    pivot=array[right]\n",
    "    \n",
    "    \n",
    "    #pointer for the left element, going to be the biggest element\n",
    "    i=left-1\n",
    "    \n",
    "    #copmare each element with pivot\n",
    "    for j in range(left,right):\n",
    "        if array[j]<= pivot:\n",
    "            #if element is smaller than pivot swap it with the pointer of the left element\n",
    "            i+=1\n",
    "            #swapping\n",
    "            array[i],array[j]=array[j],array[i]\n",
    "            \n",
    "            \n",
    "    #swap the pivot with the biggest element\n",
    "    array[i+1],array[right]=array[right],array[i+1]\n",
    "    \n",
    "    \n",
    "    return i+1 #the position from where the partition is done\n",
    "\n",
    "\n",
    "\n",
    "\n",
    "\n",
    "def quickSort(array,left, right):\n",
    "    if left<right:\n",
    "        \n",
    "        #find pivot \n",
    "        pivot=partition(array,left,right)\n",
    "        #perfom quick sort on each subarray from the pivot element\n",
    "        quickSort(array,left, pivot-1)\n",
    "        quickSort(array, pivot+1,right)\n",
    "\n",
    "    \n",
    "    \n",
    "    "
   ]
  },
  {
   "cell_type": "code",
   "execution_count": 37,
   "id": "b10fb02c",
   "metadata": {},
   "outputs": [
    {
     "name": "stdout",
     "output_type": "stream",
     "text": [
      "Original Array is:  [1, 62, 43, 85, 29, 0, 76, 102, 5000]\n",
      "\n",
      "Sorted Array using Quick sort algorithem is:  [0, 1, 29, 43, 62, 76, 85, 102, 5000]\n"
     ]
    }
   ],
   "source": [
    "arr = [1,62,43,85,29,0,76,102,5000]\n",
    "print(\"Original Array is: \",arr)\n",
    "\n",
    "\n",
    "size = len(arr)\n",
    "\n",
    "quickSort(arr, 0, size - 1)\n",
    "\n",
    "print('\\nSorted Array using Quick sort algorithem is: ',arr)\n"
   ]
  },
  {
   "cell_type": "code",
   "execution_count": 38,
   "id": "2c9ebc4a",
   "metadata": {},
   "outputs": [],
   "source": [
    "#Implement the linear search algorithm.\n",
    "#moving through the array untill we find the target\n",
    "def search (array,target):\n",
    "    n=len(array)\n",
    "    for i in range(0,n):\n",
    "        if(arr[i]==target):\n",
    "            return i\n",
    "    return -1"
   ]
  },
  {
   "cell_type": "code",
   "execution_count": 40,
   "id": "ab308d80",
   "metadata": {},
   "outputs": [
    {
     "name": "stdout",
     "output_type": "stream",
     "text": [
      "Array is:  [1, 62, 43, 85, 29, 0, 76, 102, 5000]\n",
      "\n",
      "Element fount at index 7 using Linear Search Algorithem \n"
     ]
    }
   ],
   "source": [
    "arr = [1,62,43,85,29,0,76,102,5000]\n",
    "print(\"Array is: \",arr)\n",
    "elem =search (arr,102)\n",
    "if(elem==-1):\n",
    "        print(\"\\nElement Not Found\")\n",
    "else:\n",
    "        print('\\nElement fount at index %d using Linear Search Algorithem '%elem)\n"
   ]
  },
  {
   "cell_type": "code",
   "execution_count": null,
   "id": "f28cd6d7",
   "metadata": {},
   "outputs": [],
   "source": []
  },
  {
   "cell_type": "code",
   "execution_count": 41,
   "id": "fcae3322",
   "metadata": {},
   "outputs": [],
   "source": [
    " #Implement the binary search algorithm\n",
    "#assuming sorted array we start the search at the middle of the array if not found ->\n",
    "# we move to the corresponding half depending on the reletavness of the target to the middle element\n",
    "def binarySearch(array,i,n,target):\n",
    "    while i<=n:\n",
    "        mid=i+(n-i)//2\n",
    "        \n",
    "        if array[mid]==target: #checking if the target is right at the middle\n",
    "            return mid\n",
    "        elif array[mid]<target: #checking the reltavness of the target to the middle\n",
    "            i=mid+1\n",
    "        else:\n",
    "            n=mid-1\n",
    "    return -1 #   if not found return -1\n"
   ]
  },
  {
   "cell_type": "code",
   "execution_count": 43,
   "id": "ef8ca51b",
   "metadata": {},
   "outputs": [
    {
     "name": "stdout",
     "output_type": "stream",
     "text": [
      "Original Array is:  [1, 62, 43, 85, 29, 0, 76, 102, 5000]\n",
      "\n",
      "Sorted Array is:  [0, 1, 29, 43, 62, 76, 85, 102, 5000]\n",
      "\n",
      "Element fount at index 6 using Binary Search Algorithem \n"
     ]
    }
   ],
   "source": [
    "arr = [1,62,43,85,29,0,76,102,5000]\n",
    "print(\"Original Array is: \",arr)\n",
    "quickSort(arr,0,len(arr)-1)\n",
    "\n",
    "print(\"\\nSorted Array is: \",arr)\n",
    "\n",
    "elem =binarySearch (arr,0,len(arr),85)\n",
    "if(elem==-1):\n",
    "        print(\"\\nElement Not Found\")\n",
    "else:\n",
    "        print('\\nElement fount at index %d using Binary Search Algorithem '%elem)\n"
   ]
  },
  {
   "cell_type": "markdown",
   "id": "8ef5f4e9",
   "metadata": {},
   "source": [
    "##  Recursion"
   ]
  },
  {
   "cell_type": "markdown",
   "id": "1d338dd3",
   "metadata": {},
   "source": [
    "## Factorial of a number\n",
    "The space complexity for this function is O(1) since we only used one variable and recursively changed it throghout the algorethim"
   ]
  },
  {
   "cell_type": "code",
   "execution_count": 53,
   "id": "f50f7d9c",
   "metadata": {},
   "outputs": [
    {
     "name": "stdout",
     "output_type": "stream",
     "text": [
      "Factorial of 10 is: 3628800\n"
     ]
    }
   ],
   "source": [
    "#Write a program to calculate the factorial of a number using recursion.\n",
    "\n",
    "def factorial(x):\n",
    "    if x==0:\n",
    "        return 1\n",
    "    return x*factorial(x-1)\n",
    "\n",
    "num=10\n",
    "print(\"Factorial of %d is: %d\" %(num,factorial(num)))"
   ]
  },
  {
   "cell_type": "markdown",
   "id": "e4313ffe",
   "metadata": {},
   "source": [
    "## Permutations\n",
    "There are n! permutations, each of the length n. Hence the space complexity is O(n*n!)"
   ]
  },
  {
   "cell_type": "code",
   "execution_count": 150,
   "id": "ade3b4ea",
   "metadata": {},
   "outputs": [
    {
     "name": "stdout",
     "output_type": "stream",
     "text": [
      "All the Possible premutations from the string ABCD\n",
      "ABCD\n",
      "ABDC\n",
      "ACBD\n",
      "ACDB\n",
      "ADCB\n",
      "ADBC\n",
      "BACD\n",
      "BADC\n",
      "BCAD\n",
      "BCDA\n",
      "BDCA\n",
      "BDAC\n",
      "CBAD\n",
      "CBDA\n",
      "CABD\n",
      "CADB\n",
      "CDAB\n",
      "CDBA\n",
      "DBCA\n",
      "DBAC\n",
      "DCBA\n",
      "DCAB\n",
      "DACB\n",
      "DABC\n"
     ]
    }
   ],
   "source": [
    "#Write a program to generate all permutations of a string using recursion\n",
    "\n",
    "#we keep one part fixed and swap the rest\n",
    "def permutation(s_string,i,n):\n",
    "    s=list(s_string)\n",
    "    if i==n:\n",
    "        print(''.join(s))\n",
    "    else:\n",
    "        for j in range(i,n):\n",
    "            s[i],s[j]=s[j],s[i]\n",
    "            permutation(s,i+1,n)\n",
    "            s[i],s[j]=s[j],s[i] #BackTracking\n",
    "\n",
    "\n",
    "s=\"ABCD\"\n",
    "print(\"All the Possible premutations from the string \"+s)\n",
    "permutation(s,0,len(s))"
   ]
  },
  {
   "cell_type": "markdown",
   "id": "b014e88f",
   "metadata": {},
   "source": [
    "## HASH Table"
   ]
  },
  {
   "cell_type": "code",
   "execution_count": 45,
   "id": "d662dc48",
   "metadata": {},
   "outputs": [],
   "source": [
    "#Implement a hash table and write functions to insert, delete, and search for elements.\n",
    "#chose an array of 500 elemnts to be my container\n",
    "# the hash function= (index(char)+length(string))^(order(char))%capacity  -> this is to ensure randomizaition\n",
    "\n",
    "INITIAL_CAPACITY=500\n",
    "class HashTable:\n",
    "    #creating a constructor\n",
    "    def __init__(self):\n",
    "        self.capacity=INITIAL_CAPACITY\n",
    "        self.array=[None]*self.capacity\n",
    "        \n",
    "    #creating the hash table using the function described above\n",
    "    def getHash(self,key):  \n",
    "        hashsum=0\n",
    "        \n",
    "        for i,c in enumerate(key):\n",
    "            hashsum+=(i + len(key)+1)**ord(c)\n",
    "            hashsum=hashsum%self.capacity\n",
    "        return hashsum\n",
    "    \n",
    "    # this is the insert function, since python uses dictionaries for hash map\n",
    "    def __setitem__ (self,key,value): \n",
    "        #first we get the index for the key by hashing the key\n",
    "        index=self.getHash(key)\n",
    "        #and then add the value to the corresponding index\n",
    "        self.array[index]=value\n",
    "    \n",
    "    #this is the search function that retrives the value by hashing the key and ,\n",
    "    #getting the value in the corresponding index\n",
    "    def __getitem__(self,key):\n",
    "        h=self.getHash(key)\n",
    "        return self.array[h]\n",
    "    \n",
    "    \n",
    "    #delete function simply clears out the value in the arrays[index] ->where index is optained by hashing the key\n",
    "    def __delitem__(self,key):\n",
    "        h=self.getHash(key)\n",
    "        self.array[h]=None\n",
    "\n",
    "        \n",
    "\n",
    "        \n",
    "    \n",
    "\n",
    "\n"
   ]
  },
  {
   "cell_type": "code",
   "execution_count": 46,
   "id": "71587eff",
   "metadata": {},
   "outputs": [
    {
     "name": "stdout",
     "output_type": "stream",
     "text": [
      "The Hash Table after inserting values:  [None, None, None, None, 15, None, None, None, None, None, None, None, None, None, None, None, None, None, None, None, None, None, None, None, None, None, None, None, None, None, None, None, None, None, 14, None, None, None, None, None, None, None, None, None, None, None, None, None, None, None]\n",
      "\n",
      "The Value for Key gdf is: 20\n",
      "\n",
      "The Value for Key sfgfc is: 12\n",
      "\n",
      "The Value for Key f is: 15\n",
      "\n",
      "The Hash Table after Deleting value :  [None, None, None, None, None, None, None, None, None, None, None, None, None, None, None, None, None, None, None, None, None, None, None, None, None, None, None, None, None, None, None, None, None, None, 14, None, None, None, None, None, None, None, None, None, None, None, None, None, None, None]\n"
     ]
    }
   ],
   "source": [
    "#implementation\n",
    "hash_table=HashTable() #create a hash table\n",
    "hash_table['afdg']=10     # inserting values to the hash table\n",
    "hash_table['bfdb']=11\n",
    "hash_table['sfgfc']=12\n",
    "hash_table['d']=13\n",
    "hash_table['edfv']=14\n",
    "hash_table['f']=15\n",
    "hash_table['gdg']=16\n",
    "hash_table['hgbd']=17\n",
    "hash_table['gdf']=20\n",
    "print(\"The Hash Table after inserting values: \" ,hash_table.array[:50]) \n",
    "\n",
    "#Searching for the value of a certin key\n",
    "print(\"\\nThe Value for Key %s is: %d\"%('gdf',hash_table['gdf']))\n",
    "print(\"\\nThe Value for Key %s is: %d\"%('sfgfc',hash_table['sfgfc']))\n",
    "print(\"\\nThe Value for Key %s is: %d\"%('f',hash_table['f']))\n",
    "\n",
    "#Deleting Value\n",
    "del hash_table['f']\n",
    "print(\"\\nThe Hash Table after Deleting value : \" ,hash_table.array[:50]) \n"
   ]
  },
  {
   "cell_type": "code",
   "execution_count": null,
   "id": "61a75992",
   "metadata": {},
   "outputs": [],
   "source": []
  },
  {
   "cell_type": "markdown",
   "id": "13145efb",
   "metadata": {},
   "source": [
    "## Bit Manipulation"
   ]
  },
  {
   "cell_type": "code",
   "execution_count": 47,
   "id": "317db347",
   "metadata": {},
   "outputs": [
    {
     "name": "stdout",
     "output_type": "stream",
     "text": [
      "Number 43 is Odd\n",
      "\n",
      "Number of set bits for 43 is:  4\n"
     ]
    }
   ],
   "source": [
    "# Write a program to check if a given number is even or odd using bit manipulation.\n",
    "# using And operand with 1\n",
    "# Even numbers return 1 and odd numbers retun 0\n",
    "def isEven(x):\n",
    "    return(not(x & 1))\n",
    "\n",
    "\n",
    "\n",
    "# Write a program to find the number of set bits in a given integer using bit manipulation\n",
    "def numOfSetBits(x):\n",
    "    if(x==0):\n",
    "        return 0\n",
    "    else:\n",
    "        # check first bit on the right\n",
    "        return (x & 1) + numOfSetBits(x>>1) #shift right 1 bit and check again\n",
    "    \n",
    "    \n",
    "# Implementation:\n",
    "n=43\n",
    "if isEven(n):\n",
    "    print(\"Number %d is Even\" %n)\n",
    "else:\n",
    "    print(\"Number %d is Odd\" %n)\n",
    "\n",
    "    \n",
    "print(\"\\nNumber of set bits for %d is: \" %n,numOfSetBits(n))"
   ]
  },
  {
   "cell_type": "markdown",
   "id": "f103d83e",
   "metadata": {},
   "source": []
  },
  {
   "cell_type": "markdown",
   "id": "889093aa",
   "metadata": {},
   "source": [
    "### ## Question 11\n",
    "Suppose you have a grid of n x m cells, where each cell is either empty or contains a rock. You're given a starting position in the grid (x,y), and you want to reach a target  position (tx,ty), but you can only move in four directions (up, down, left, right) and you can only move through empty cells.You're also given a limited number of moves k that you can make. Write a program to determine if it's possible to reach the target position from the starting position within k moves.\n",
    "\n",
    "\n",
    "\n",
    "\n",
    "\n"
   ]
  },
  {
   "cell_type": "code",
   "execution_count": 48,
   "id": "037126eb",
   "metadata": {},
   "outputs": [],
   "source": [
    "# we transverse through the grid recursively, each time we run into a rock or we move outside the grid-> False is returned\n",
    "# to avoid going back to cells we already visted, we change the value in that cell to -1, that way we can cut off redundant checks\n",
    "# if we reach the target with steps left ( at least 0) -> return True\n",
    "\n",
    "\n",
    "def roadToTarget(grid,x,y,xt,yt,k):\n",
    "    flag=False\n",
    "    \n",
    "    if k < 0 or x==len(grid) or y==len(grid[0]) or grid[x][y]==1 or x==-1 or y==-1:\n",
    "        return False\n",
    "    elif (x==xt and y==yt):\n",
    "        \n",
    "        return True\n",
    "    \n",
    "    elif(grid[x][y]==-1):\n",
    "        return\n",
    "    \n",
    "    else:\n",
    "        grid[x][y]=-1\n",
    "        flag=(roadToTarget(grid,x,y+1,xt,yt,k-1) or\n",
    "        roadToTarget(grid,x,y-1,xt,yt,k-1) or\n",
    "        roadToTarget(grid,x+1,y,xt,yt,k-1) or\n",
    "        roadToTarget(grid,x-1,y,xt,yt,k-1) )\n",
    "    return flag\n",
    "    \n",
    "    \n",
    "    \n",
    "    "
   ]
  },
  {
   "cell_type": "code",
   "execution_count": 51,
   "id": "4843c71a",
   "metadata": {},
   "outputs": [
    {
     "name": "stdout",
     "output_type": "stream",
     "text": [
      "The Grid: \n",
      " [[0 0 0]\n",
      " [1 1 0]\n",
      " [0 0 0]]\n",
      "\n",
      "Starting point (0,0)\n",
      "Ending Point (2,2)\n",
      "Number of steps Required: 4\n",
      "It is possible to reach the target with 4 steps\n",
      "\n",
      "___________________________________________________________\n",
      "The Grid: \n",
      " [[0 0 0 0]\n",
      " [0 0 1 0]\n",
      " [0 1 0 0]\n",
      " [0 1 0 0]]\n",
      "\n",
      "Starting point (3,0)\n",
      "Ending Point (3,2)\n",
      "Number of steps Required: 10\n",
      "It is possible to reach the target with 10 steps\n",
      "\n",
      "___________________________________________________________\n",
      "The Grid: \n",
      " [[0 0 0 0]\n",
      " [1 0 0 0]\n",
      " [0 1 0 0]\n",
      " [0 0 1 0]]\n",
      "\n",
      "Starting point (3,0)\n",
      "Ending Point (3,2)\n",
      "Number of steps Required: 10\n",
      "It is Not possible to reach the target with 10 steps\n",
      "\n",
      "___________________________________________________________\n",
      "The Grid: \n",
      " [[0 0 0]\n",
      " [0 1 0]\n",
      " [0 0 0]]\n",
      "\n",
      "Starting point (0,0)\n",
      "Ending Point (2,1)\n",
      "Number of steps Required: 3\n",
      "It is possible to reach the target with 3 steps\n",
      "\n"
     ]
    }
   ],
   "source": [
    "grid= [[0, 0, 0], [1, 1, 0], [0, 0, 0]]\n",
    "x,y= 0,0\n",
    "xt,yt=2,2\n",
    "k=4\n",
    "print(\"The Grid: \\n\", np.matrix(grid))\n",
    "print(\"\\nStarting point (%d,%d)\\nEnding Point (%d,%d)\" %(x,y,xt,yt))\n",
    "print(\"Number of steps Required: %d\" %k)\n",
    "if(roadToTarget(grid,x,y,xt,yt,k)):\n",
    "    print(\"It is possible to reach the target with %d steps\\n\" %k)\n",
    "else:\n",
    "    print(\"It is Not possible to reach the target with %d steps\\n\" %k)\n",
    "\n",
    "print(\"___________________________________________________________\")\n",
    "# only one rout is availabe and it takes 10 steps\n",
    "grid=[[0,0,0,0],[0,0,1,0],[0,1,0,0],[0,1,0,0]] \n",
    "x,y= 3,0\n",
    "xt,yt=3,2\n",
    "k=10\n",
    "print(\"The Grid: \\n\", np.matrix(grid))\n",
    "print(\"\\nStarting point (%d,%d)\\nEnding Point (%d,%d)\" %(x,y,xt,yt))\n",
    "print(\"Number of steps Required: %d\" %k)\n",
    "if(roadToTarget(grid,x,y,xt,yt,k)):\n",
    "    print(\"It is possible to reach the target with %d steps\\n\" %k)\n",
    "else:\n",
    "    print(\"It is Not possible to reach the target with %d steps\\n\" %k)\n",
    "\n",
    "print(\"___________________________________________________________\")\n",
    "#this is an impossible situation\n",
    "grid=[[0,0,0,0],[1,0,0,0],[0,1,0,0],[0,0,1,0]] \n",
    "x,y=(3,0)\n",
    "xt,yt=(3,2)\n",
    "k=10\n",
    "print(\"The Grid: \\n\", np.matrix(grid))\n",
    "print(\"\\nStarting point (%d,%d)\\nEnding Point (%d,%d)\" %(x,y,xt,yt))\n",
    "print(\"Number of steps Required: %d\" %k)\n",
    "if(roadToTarget(grid,x,y,xt,yt,k)):\n",
    "    print(\"It is possible to reach the target with %d steps\\n\" %k)\n",
    "else:\n",
    "    print(\"It is Not possible to reach the target with %d steps\\n\" %k)\n",
    "    \n",
    "    \n",
    "print(\"___________________________________________________________\")\n",
    "#more than one rout is available the shortest is 3 steps long\n",
    "\n",
    "grid= [[0, 0, 0], [0, 1, 0], [0, 0, 0]] \n",
    "x,y= 0,0\n",
    "xt,yt=2,1\n",
    "k=3\n",
    "print(\"The Grid: \\n\", np.matrix(grid))\n",
    "print(\"\\nStarting point (%d,%d)\\nEnding Point (%d,%d)\" %(x,y,xt,yt))\n",
    "print(\"Number of steps Required: %d\" %k)\n",
    "if(roadToTarget(grid,x,y,xt,yt,k)):\n",
    "    print(\"It is possible to reach the target with %d steps\\n\" %k)\n",
    "else:\n",
    "    print(\"It is Not possible to reach the target with %d steps\\n\" %k)\n",
    "\n",
    "\n"
   ]
  },
  {
   "cell_type": "code",
   "execution_count": null,
   "id": "ecb3a6ed",
   "metadata": {},
   "outputs": [],
   "source": []
  },
  {
   "cell_type": "code",
   "execution_count": null,
   "id": "a0c780e8",
   "metadata": {},
   "outputs": [],
   "source": []
  },
  {
   "cell_type": "markdown",
   "id": "a77430d2",
   "metadata": {},
   "source": [
    "## Singleton Design Pattern for Web Logging "
   ]
  },
  {
   "cell_type": "code",
   "execution_count": 52,
   "id": "28cd753a",
   "metadata": {},
   "outputs": [
    {
     "name": "stdout",
     "output_type": "stream",
     "text": [
      "Constructing 2 Loggers From the same Class\n",
      "\n",
      "checking if the Objects are the same one:  True\n",
      "\n",
      "Changing info for one Logger object:  Hello Logger\n",
      "\n",
      "Changing debug for one logger object:  bug occured\n"
     ]
    }
   ],
   "source": [
    "import logging\n",
    "class MyLogger:\n",
    "    #instantiate the logger for the first time\n",
    "    _logger = None\n",
    "\n",
    "    ## this dunder method __new__ calls the __init__ method and instantiat a logger\n",
    "    def __new__(cls, *args, **kwargs):\n",
    "        if cls._logger is None:\n",
    "\n",
    "            cls._logger = super().__new__(cls ,*args, **kwargs)\n",
    "            cls._logger = logging.getLogger(\"ABC\")\n",
    "            \n",
    "        \n",
    "        #returning the logger whether its new or old but not changed     \n",
    "        return cls._logger\n",
    "    \n",
    "    \n",
    "print(\"Constructing 2 Loggers From the same Class\" )\n",
    "logger = MyLogger()\n",
    "logger2 = MyLogger()\n",
    "print(\"\\nchecking if the Objects are the same one: \",logger is logger2)\n",
    "\n",
    "logger.info=\"Hello Logger\"\n",
    "logger2.debug=\"bug occured\"\n",
    "\n",
    "print(\"\\nChanging info for one Logger object: \", logger2.info)\n",
    "print(\"\\nChanging debug for one logger object: \", logger.debug)"
   ]
  },
  {
   "cell_type": "raw",
   "id": "04564d02",
   "metadata": {},
   "source": []
  }
 ],
 "metadata": {
  "kernelspec": {
   "display_name": "Python 3 (ipykernel)",
   "language": "python",
   "name": "python3"
  },
  "language_info": {
   "codemirror_mode": {
    "name": "ipython",
    "version": 3
   },
   "file_extension": ".py",
   "mimetype": "text/x-python",
   "name": "python",
   "nbconvert_exporter": "python",
   "pygments_lexer": "ipython3",
   "version": "3.11.5"
  }
 },
 "nbformat": 4,
 "nbformat_minor": 5
}
